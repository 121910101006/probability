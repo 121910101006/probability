{
  "nbformat": 4,
  "nbformat_minor": 0,
  "metadata": {
    "colab": {
      "name": "hashtable.ipynb",
      "provenance": [],
      "authorship_tag": "ABX9TyOrd1Vfuk34erbLkgt770iY",
      "include_colab_link": true
    },
    "kernelspec": {
      "name": "python3",
      "display_name": "Python 3"
    },
    "language_info": {
      "name": "python"
    }
  },
  "cells": [
    {
      "cell_type": "markdown",
      "metadata": {
        "id": "view-in-github",
        "colab_type": "text"
      },
      "source": [
        "<a href=\"https://colab.research.google.com/github/121910101006/probability/blob/main/hashtable.ipynb\" target=\"_parent\"><img src=\"https://colab.research.google.com/assets/colab-badge.svg\" alt=\"Open In Colab\"/></a>"
      ]
    },
    {
      "cell_type": "code",
      "metadata": {
        "colab": {
          "base_uri": "https://localhost:8080/"
        },
        "id": "ruyDY-X4azBp",
        "outputId": "859d2d88-7ff6-433c-a99b-831a17243e8c"
      },
      "source": [
        "#Function to display hashtable\n",
        "def display_hash(hashtable):\n",
        "  for i in range(len(hashtable)):\n",
        "    print(i,end=\" \")\n",
        "    for j in hashtable[i]:\n",
        "      print(\"-->\",end=\" \")\n",
        "      print(j,end=\" \")\n",
        "    print()\n",
        "#Creating Hashtable as\n",
        "#a nested list\n",
        "Hashtable=[[]for _ in range(10)]\n",
        "#Hashing FUnction to return\n",
        "#keyfor every value\n",
        "def Hashing(keyvalue):\n",
        "  return keyvalue %len(Hashtable)\n",
        "#Insert Function to add\n",
        "#values to the hash table\n",
        "def insert(Hashtable,keyvalue,value):\n",
        "  hash_key=Hashing(keyvalue)\n",
        "  Hashtable[hash_key].append(value)\n",
        "\n",
        "#Driver Code\n",
        "insert(Hashtable, 10,'Allahabad')\n",
        "insert(Hashtable, 25,'Mumbai')\n",
        "insert(Hashtable, 20,'Mathura')\n",
        "insert(Hashtable, 9,'Delhi')\n",
        "insert(Hashtable, 21,'Punjab')\n",
        "insert(Hashtable, 21,'Noida')\n",
        "\n",
        "display_hash(Hashtable)"
      ],
      "execution_count": 7,
      "outputs": [
        {
          "output_type": "stream",
          "name": "stdout",
          "text": [
            "0 --> Allahabad --> Mathura \n",
            "1 --> Punjab --> Noida \n",
            "2 \n",
            "3 \n",
            "4 \n",
            "5 --> Mumbai \n",
            "6 \n",
            "7 \n",
            "8 \n",
            "9 --> Delhi \n"
          ]
        }
      ]
    },
    {
      "cell_type": "code",
      "metadata": {
        "colab": {
          "base_uri": "https://localhost:8080/"
        },
        "id": "3arJKEx3hUW9",
        "outputId": "f3daa2fb-0056-4418-d7dd-60c1ce30b61a"
      },
      "source": [
        "#Function to create empty table\n",
        "def display_hash(Hashtable):\n",
        "  for i in range (len(Hashtable)):\n",
        "    print(i,end=\" \")\n",
        "    for j in Hashtable[i]:\n",
        "      print(\"-->\",end=\" \")\n",
        "      print(j,end =\" \")\n",
        "    print()\n",
        "Hashtable=[[]for _ in range(10)]\n",
        "def Hashing(keyvalue):\n",
        "  return keyvalue %len(Hashtable) \n",
        "def insert (Hashtable,keyvalue,value):\n",
        "  hash_key = Hashing(keyvalue)\n",
        "  Hashtable[hash_key].append(value)\n",
        "insert(Hashtable, 10,'Nepal')\n",
        "insert(Hashtable, 20,'India')\n",
        "insert(Hashtable, 19,'')\n",
        "insert(Hashtable, 25,'USA')\n",
        "insert(Hashtable, 21,'')\n",
        "insert(Hashtable, 17,'')\n",
        "\n",
        "display_hash(Hashtable)"
      ],
      "execution_count": 12,
      "outputs": [
        {
          "output_type": "stream",
          "name": "stdout",
          "text": [
            "0 --> Nepal --> India \n",
            "1 -->  \n",
            "2 \n",
            "3 \n",
            "4 \n",
            "5 --> USA \n",
            "6 \n",
            "7 -->  \n",
            "8 \n",
            "9 -->  \n"
          ]
        }
      ]
    },
    {
      "cell_type": "code",
      "metadata": {
        "id": "Ti2YNgKNipRe"
      },
      "source": [
        ""
      ],
      "execution_count": null,
      "outputs": []
    }
  ]
}