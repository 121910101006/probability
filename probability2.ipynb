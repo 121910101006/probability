{
  "nbformat": 4,
  "nbformat_minor": 0,
  "metadata": {
    "colab": {
      "name": "probability.ipynb",
      "provenance": [],
      "authorship_tag": "ABX9TyPoe1xgfugT1OYArDHxB6vc",
      "include_colab_link": true
    },
    "kernelspec": {
      "name": "python3",
      "display_name": "Python 3"
    },
    "language_info": {
      "name": "python"
    }
  },
  "cells": [
    {
      "cell_type": "markdown",
      "metadata": {
        "id": "view-in-github",
        "colab_type": "text"
      },
      "source": [
        "<a href=\"https://colab.research.google.com/github/121910101006/probability/blob/main/probability2.ipynb\" target=\"_parent\"><img src=\"https://colab.research.google.com/assets/colab-badge.svg\" alt=\"Open In Colab\"/></a>"
      ]
    },
    {
      "cell_type": "markdown",
      "metadata": {
        "id": "oFwq6-I5OcBN"
      },
      "source": [
        "Set Operation"
      ]
    },
    {
      "cell_type": "code",
      "metadata": {
        "colab": {
          "base_uri": "https://localhost:8080/"
        },
        "id": "sBpfSaYgOeZS",
        "outputId": "e15b55c1-611b-432f-f693-0bfe1cb14294"
      },
      "source": [
        "A = {1,2,3,4,5}\n",
        "B = {5,6,7}\n",
        "#print(2 in A)\n",
        "type(2 in A)"
      ],
      "execution_count": null,
      "outputs": [
        {
          "output_type": "execute_result",
          "data": {
            "text/plain": [
              "bool"
            ]
          },
          "metadata": {},
          "execution_count": 1
        }
      ]
    },
    {
      "cell_type": "code",
      "metadata": {
        "colab": {
          "base_uri": "https://localhost:8080/"
        },
        "id": "8irkzCmoQu5s",
        "outputId": "c064bf16-6af3-4fd7-b9ef-2ac9444a26f9"
      },
      "source": [
        "A = {1,2,3,4,5}\n",
        "B = {5,6,7}\n",
        "B.issubset(A)"
      ],
      "execution_count": null,
      "outputs": [
        {
          "output_type": "execute_result",
          "data": {
            "text/plain": [
              "False"
            ]
          },
          "metadata": {},
          "execution_count": 2
        }
      ]
    },
    {
      "cell_type": "code",
      "metadata": {
        "colab": {
          "base_uri": "https://localhost:8080/"
        },
        "id": "38So1VghQ4zW",
        "outputId": "fd5a02e9-1e16-4205-bc75-c38fd2840f84"
      },
      "source": [
        "def is_subset(A,B):\n",
        "  for e in A:\n",
        "\n",
        "    if e in B:\n",
        "      pass\n",
        "\n",
        "    else:\n",
        "      return False\n",
        "  return True\n",
        "A = {1,2,3,4,5}\n",
        "B = {5,6,7}\n",
        "sub = is_subset(A,B)\n",
        "print(sub)"
      ],
      "execution_count": null,
      "outputs": [
        {
          "output_type": "stream",
          "name": "stdout",
          "text": [
            "False\n"
          ]
        }
      ]
    },
    {
      "cell_type": "code",
      "metadata": {
        "colab": {
          "base_uri": "https://localhost:8080/"
        },
        "id": "kVdm7L01UNXR",
        "outputId": "b0caca38-d017-4feb-c192-a8f4b02f554b"
      },
      "source": [
        "def is_subset(A,B):\n",
        "  for e in A:\n",
        "\n",
        "    if e in B:\n",
        "      pass\n",
        "\n",
        "    else:\n",
        "      return False\n",
        "  return True\n",
        "A = {1,2,3,4,5}\n",
        "B = {5,6,7}\n",
        "sub = is_subset({1,2,3,4,5},{5,6,7})\n",
        "print(sub)"
      ],
      "execution_count": null,
      "outputs": [
        {
          "output_type": "stream",
          "name": "stdout",
          "text": [
            "False\n"
          ]
        }
      ]
    },
    {
      "cell_type": "code",
      "metadata": {
        "colab": {
          "base_uri": "https://localhost:8080/"
        },
        "id": "HHYOL_c4UW-w",
        "outputId": "6b1a1bf6-dbe5-4cbe-fd51-d35a0311c7a2"
      },
      "source": [
        "import numpy as np\n",
        "uni = set(np.arange(10))\n",
        "A = set(np.arange(0,9,2))\n",
        "B = set(np.arange(0,9,3))\n",
        "print(\"\\nUniversal Set: \", uni)\n",
        "print(\"\\nSet A: \", A)\n",
        "print(\"\\nSet B: \", B)\n",
        "print(\"\\nA U B: \", A.union(B))\n",
        "print(\"\\nA U B: \", A.intersection(B))\n",
        "print(\"\\nA U B: \", A.difference(B))\n",
        "print(\"\\nA' : \",uni.difference(A))\n",
        "print(\"\\nB' : \",uni.difference(B))"
      ],
      "execution_count": 1,
      "outputs": [
        {
          "output_type": "stream",
          "name": "stdout",
          "text": [
            "\n",
            "Universal Set:  {0, 1, 2, 3, 4, 5, 6, 7, 8, 9}\n",
            "\n",
            "Set A:  {0, 2, 4, 6, 8}\n",
            "\n",
            "Set B:  {0, 3, 6}\n",
            "\n",
            "A U B:  {0, 2, 3, 4, 6, 8}\n",
            "\n",
            "A U B:  {0, 6}\n",
            "\n",
            "A U B:  {8, 2, 4}\n",
            "\n",
            "A' :  {1, 3, 5, 7, 9}\n",
            "\n",
            "B' :  {1, 2, 4, 5, 7, 8, 9}\n"
          ]
        }
      ]
    },
    {
      "cell_type": "code",
      "metadata": {
        "colab": {
          "base_uri": "https://localhost:8080/"
        },
        "id": "Ec_1z6Xdd6M9",
        "outputId": "4dc13eed-db3a-4adc-f51a-5afbc2224ff9"
      },
      "source": [
        "# Implement De Morgans theory using python\n",
        "import numpy as np\n",
        "U = set (np.arange(10))\n",
        "A = set (np.arange(0,9,2))\n",
        "B = set (np.arange(0,9,3))\n",
        "P = A.union(B)\n",
        "Q = uni.difference(P)\n",
        "S = uni.difference(B)\n",
        "R = uni.difference(A)\n",
        "T = R.intersection(S)\n",
        "if Q ==T:\n",
        "  print(\"True\")\n",
        "else:\n",
        "  print(\"False\")\n"
      ],
      "execution_count": 2,
      "outputs": [
        {
          "output_type": "stream",
          "name": "stdout",
          "text": [
            "True\n"
          ]
        }
      ]
    }
  ]
}