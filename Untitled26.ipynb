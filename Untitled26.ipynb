{
  "nbformat": 4,
  "nbformat_minor": 0,
  "metadata": {
    "colab": {
      "name": "Untitled26.ipynb",
      "provenance": [],
      "authorship_tag": "ABX9TyPU2KDC1S1OGENKuc1TAMTj",
      "include_colab_link": true
    },
    "kernelspec": {
      "name": "python3",
      "display_name": "Python 3"
    },
    "language_info": {
      "name": "python"
    }
  },
  "cells": [
    {
      "cell_type": "markdown",
      "metadata": {
        "id": "view-in-github",
        "colab_type": "text"
      },
      "source": [
        "<a href=\"https://colab.research.google.com/github/121910101006/probability/blob/main/Untitled26.ipynb\" target=\"_parent\"><img src=\"https://colab.research.google.com/assets/colab-badge.svg\" alt=\"Open In Colab\"/></a>"
      ]
    },
    {
      "cell_type": "markdown",
      "metadata": {
        "id": "MdPCeHy_nB88"
      },
      "source": [
        "if a box contains N left handed and M right handed screws, what is the probability of obtaining atleast  1 right handed screw in drawing 2 screws a) with replacement b) without replacement"
      ]
    },
    {
      "cell_type": "code",
      "metadata": {
        "colab": {
          "base_uri": "https://localhost:8080/"
        },
        "id": "HaklWB6OnD3B",
        "outputId": "bb34854d-7e7c-42a0-d939-cdff0c0ec411"
      },
      "source": [
        "import math\n",
        "a = int(input(\"enter the number of right handed screws:-\"))\n",
        "b = int(input(\"enter the number of left handed screw:-\"))\n",
        "c = int(input(\"number of screws to be selected:-\"))\n",
        "d = input(\"enter replacement or without replacement:-\")\n",
        "T = a+b\n",
        "if d==\"without replacement\":\n",
        "  C1 = math.factorial(b)/(math.factorial(b-c)*math.factorial(c))\n",
        "  C2 = math.factorial(T)/(math.factorial(T-c)*math.factorial(c))\n",
        "  C = 1-(C1/C2)\n",
        "  prob = print(\"prob of atleast one:-\",C)\n",
        "else:\n",
        "    prob1 = (T-b)/T\n",
        "    prob2 = (T-b)/T\n",
        "    P = prob1*prob2\n",
        "    print(\"the prob with replacement is:-\",P)"
      ],
      "execution_count": 2,
      "outputs": [
        {
          "output_type": "stream",
          "name": "stdout",
          "text": [
            "enter the number of right handed screws:-20\n",
            "enter the number of left handed screw:-10\n",
            "number of screws to be selected:-2\n",
            "enter replacement or without replacement:-with replacement\n",
            "the prob with replacement is:- 0.4444444444444444\n"
          ]
        }
      ]
    },
    {
      "cell_type": "code",
      "metadata": {
        "colab": {
          "base_uri": "https://localhost:8080/"
        },
        "id": "Q-MSjjmM0K6M",
        "outputId": "ce9b8776-6bdf-4679-ecda-3b4cbe2700bd"
      },
      "source": [
        "import math\n",
        "a = int(input(\"enter the number of right handed screws:-\"))\n",
        "b = int(input(\"enter the number of left handed screw:-\"))\n",
        "c = int(input(\"number of screws to be selected:-\"))\n",
        "d = input(\"enter replacement or without replacement:-\")\n",
        "T = a+b\n",
        "if d==\"without replacement\":\n",
        "  C1 = math.factorial(b)/(math.factorial(b-c)*math.factorial(c))\n",
        "  C2 = math.factorial(T)/(math.factorial(T-c)*math.factorial(c))\n",
        "  C = 1-(C1/C2)\n",
        "  prob = print(\"prob of atleast one:-\",C)\n",
        "else:\n",
        "    prob1 = (T-b)/T\n",
        "    prob2 = (T-b)/T\n",
        "    P = prob1*prob2\n",
        "    print(\"the prob with replacement is:-\",P)"
      ],
      "execution_count": 3,
      "outputs": [
        {
          "output_type": "stream",
          "name": "stdout",
          "text": [
            "enter the number of right handed screws:-20\n",
            "enter the number of left handed screw:-10\n",
            "number of screws to be selected:-2\n",
            "enter replacement or without replacement:-without replacement\n",
            "prob of atleast one:- 0.896551724137931\n"
          ]
        }
      ]
    },
    {
      "cell_type": "markdown",
      "metadata": {
        "id": "EQrxxjKEnBEG"
      },
      "source": [
        ""
      ]
    }
  ]
}