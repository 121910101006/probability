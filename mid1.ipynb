{
  "nbformat": 4,
  "nbformat_minor": 0,
  "metadata": {
    "colab": {
      "name": "mid1.ipynb",
      "provenance": [],
      "authorship_tag": "ABX9TyMj6IZwrw8EZok50iutUVEw",
      "include_colab_link": true
    },
    "kernelspec": {
      "name": "python3",
      "display_name": "Python 3"
    },
    "language_info": {
      "name": "python"
    }
  },
  "cells": [
    {
      "cell_type": "markdown",
      "metadata": {
        "id": "view-in-github",
        "colab_type": "text"
      },
      "source": [
        "<a href=\"https://colab.research.google.com/github/121910101006/probability/blob/main/mid1.ipynb\" target=\"_parent\"><img src=\"https://colab.research.google.com/assets/colab-badge.svg\" alt=\"Open In Colab\"/></a>"
      ]
    },
    {
      "cell_type": "markdown",
      "metadata": {
        "id": "nB-i-DIYXiPR"
      },
      "source": [
        "for without replacement"
      ]
    },
    {
      "cell_type": "code",
      "metadata": {
        "colab": {
          "base_uri": "https://localhost:8080/"
        },
        "id": "BaMOg6MjWeLU",
        "outputId": "1fe546d8-e918-425c-bc39-e6c75d0b7727"
      },
      "source": [
        "def nCr(n, r):\n",
        "    return (fact(n) / (fact(r)* fact(n - r)))\n",
        "def fact(n):\n",
        "    c = 1\n",
        "    for i in range(2, n+1):\n",
        "        c *= i\n",
        "    return c\n",
        "    \n",
        "    \n",
        "N = int(input(\"Enter the total number of Screws N: \"))\n",
        "K = int(input(\"Enter the total number of defective screws K: \"))\n",
        "probability = (nCr(K,0)*nCr(N-K,2))/(nCr(N, 2))\n",
        "print(\"The probability that no screws are defective is {0:.2g} .\".format(probability))"
      ],
      "execution_count": 8,
      "outputs": [
        {
          "output_type": "stream",
          "name": "stdout",
          "text": [
            "Enter the total number of Screws N: 10\n",
            "Enter the total number of defective screws K: 3\n",
            "The probability that no screws are defective is 0.47 .\n"
          ]
        }
      ]
    },
    {
      "cell_type": "markdown",
      "metadata": {
        "id": "SYtssDLRYH3F"
      },
      "source": [
        "with replacement"
      ]
    },
    {
      "cell_type": "code",
      "metadata": {
        "colab": {
          "base_uri": "https://localhost:8080/"
        },
        "id": "5peYhNAZW_GG",
        "outputId": "7f525261-c28a-436b-e654-6ea668efe355"
      },
      "source": [
        "def nCr(n, r):\n",
        "    return (fact(n) / (fact(r)* fact(n - r)))\n",
        "def fact(n):\n",
        "    k = 1\n",
        "    for i in range(2, n+1):\n",
        "        k *= i\n",
        "    return k\n",
        "    \n",
        "    \n",
        "N = int(input(\"Enter the number of Screws N: \"))\n",
        "K = int(input(\"Enter the number of defective screws K: \"))\n",
        "probability = (nCr(K,0)*nCr(N+K,2))/(nCr(N, 2))\n",
        "print(\"The probability that no screws are defective is {0:.2g} .\".format(probability))"
      ],
      "execution_count": 7,
      "outputs": [
        {
          "output_type": "stream",
          "name": "stdout",
          "text": [
            "Enter the number of Screws N: 15\n",
            "Enter the number of defective screws K: 4\n",
            "The probability that no screws are defective is 1.6 .\n"
          ]
        }
      ]
    }
  ]
}